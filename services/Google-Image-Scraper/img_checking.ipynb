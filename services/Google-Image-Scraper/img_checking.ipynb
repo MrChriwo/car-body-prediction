{
 "cells": [
  {
   "cell_type": "code",
   "execution_count": 1,
   "metadata": {},
   "outputs": [
    {
     "name": "stdout",
     "output_type": "stream",
     "text": [
      "196\n"
     ]
    }
   ],
   "source": [
    "from os import listdir, path, remove, rename \n",
    "import pickle\n",
    "\n",
    "# def check_images(formats: list): \n",
    "#     c = 0\n",
    "#     dictonary = {}\n",
    "#     for dir in listdir(\"./photos\"):\n",
    "#         directory = path.join(\"./photos\", dir)\n",
    "#         files = listdir(directory)\n",
    "#         if len(files) > 1: \n",
    "#             usefull_files = {dir: []}\n",
    "#             for fname in files: \n",
    "#                 if \".\" in fname: \n",
    "#                     split = fname.split(\".\")\n",
    "#                     if split[-1] in formats: \n",
    "#                         usefull_files[dir].append(fname)\n",
    "#                         c+= 1 \n",
    "#                         print(f\"{c} of {len(files)} successfully checked\", end=\"\\r\")\n",
    "#                     else:\n",
    "#                         pth = path.join(directory, fname)\n",
    "#                         remove(pth)\n",
    "#             dictonary.update(usefull_files)\n",
    "#         else: \n",
    "#             print(f\"{directory} has no files\")\n",
    "\n",
    "#     with open(\"picture_struct.pickle\", \"wb\") as file: \n",
    "#         pickle.dump(dictonary, file)\n",
    "#         print(\"file was created successfully\")\n",
    " \n",
    "# check_images([\"jpg\", \"jpeg\", \"png\"])\n",
    "\n",
    "with open(\"./picture_struct.pickle\", 'rb') as file:\n",
    "    loaded_dict = pickle.load(file)\n",
    "\n",
    "print(len(loaded_dict.keys()))"
   ]
  },
  {
   "cell_type": "code",
   "execution_count": 3,
   "metadata": {},
   "outputs": [
    {
     "name": "stdout",
     "output_type": "stream",
     "text": [
      "['jpeg', 'png']\n"
     ]
    }
   ],
   "source": [
    "formata = []\n",
    "for key in loaded_dict:\n",
    "    l = loaded_dict[key]\n",
    "    for file in l: \n",
    "        format = file.split(\".\")[-1]\n",
    "        if format not in formata: \n",
    "            formata.append(format)\n",
    "print(formata) \n"
   ]
  }
 ],
 "metadata": {
  "kernelspec": {
   "display_name": "Python 3",
   "language": "python",
   "name": "python3"
  },
  "language_info": {
   "codemirror_mode": {
    "name": "ipython",
    "version": 3
   },
   "file_extension": ".py",
   "mimetype": "text/x-python",
   "name": "python",
   "nbconvert_exporter": "python",
   "pygments_lexer": "ipython3",
   "version": "3.11.0"
  },
  "orig_nbformat": 4
 },
 "nbformat": 4,
 "nbformat_minor": 2
}
