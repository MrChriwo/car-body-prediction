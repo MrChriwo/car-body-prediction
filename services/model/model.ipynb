{
 "cells": [
  {
   "attachments": {},
   "cell_type": "markdown",
   "metadata": {},
   "source": [
    "## Imports"
   ]
  },
  {
   "attachments": {},
   "cell_type": "markdown",
   "metadata": {},
   "source": [
    "### modules"
   ]
  },
  {
   "cell_type": "code",
   "execution_count": 90,
   "metadata": {},
   "outputs": [],
   "source": [
    "import os\n",
    "import pandas as pd \n",
    "import numpy as np \n",
    "from sklearn.model_selection import train_test_split\n",
    "from sklearn.preprocessing import OneHotEncoder\n",
    "from os import path, listdir\n",
    "import tensorflow as tf \n",
    "import matplotlib.pyplot as plt "
   ]
  },
  {
   "cell_type": "code",
   "execution_count": 5,
   "metadata": {},
   "outputs": [],
   "source": [
    "from tensorflow.compat.v1 import ConfigProto\n",
    "from tensorflow.compat.v1 import InteractiveSession\n",
    "config = ConfigProto()\n",
    "config.gpu_options.allow_growth = True\n",
    "session = InteractiveSession(config=config)\n",
    "tf.config.run_functions_eagerly(True)\n",
    "physical_devices = tf.config.list_physical_devices('GPU')\n",
    "tf.config.set_visible_devices(physical_devices[0], 'GPU')"
   ]
  },
  {
   "cell_type": "code",
   "execution_count": 6,
   "metadata": {},
   "outputs": [],
   "source": []
  },
  {
   "attachments": {},
   "cell_type": "markdown",
   "metadata": {},
   "source": [
    "### data"
   ]
  },
  {
   "cell_type": "code",
   "execution_count": 7,
   "metadata": {},
   "outputs": [
    {
     "data": {
      "text/html": [
       "<div>\n",
       "<style scoped>\n",
       "    .dataframe tbody tr th:only-of-type {\n",
       "        vertical-align: middle;\n",
       "    }\n",
       "\n",
       "    .dataframe tbody tr th {\n",
       "        vertical-align: top;\n",
       "    }\n",
       "\n",
       "    .dataframe thead th {\n",
       "        text-align: right;\n",
       "    }\n",
       "</style>\n",
       "<table border=\"1\" class=\"dataframe\">\n",
       "  <thead>\n",
       "    <tr style=\"text-align: right;\">\n",
       "      <th></th>\n",
       "      <th>name</th>\n",
       "      <th>car_name</th>\n",
       "      <th>car_type</th>\n",
       "      <th>is_test</th>\n",
       "    </tr>\n",
       "  </thead>\n",
       "  <tbody>\n",
       "    <tr>\n",
       "      <th>1</th>\n",
       "      <td>00002_Acura TL Sedan 2012.jpg</td>\n",
       "      <td>Acura TL Sedan 2012</td>\n",
       "      <td>Midsize</td>\n",
       "      <td>0</td>\n",
       "    </tr>\n",
       "    <tr>\n",
       "      <th>2</th>\n",
       "      <td>00003_Dodge Dakota Club Cab 2007.jpg</td>\n",
       "      <td>Dodge Dakota Club Cab 2007</td>\n",
       "      <td>Large</td>\n",
       "      <td>0</td>\n",
       "    </tr>\n",
       "    <tr>\n",
       "      <th>3</th>\n",
       "      <td>00004_Hyundai Sonata Hybrid Sedan 2012.jpg</td>\n",
       "      <td>Hyundai Sonata Hybrid Sedan 2012</td>\n",
       "      <td>Midsize</td>\n",
       "      <td>0</td>\n",
       "    </tr>\n",
       "    <tr>\n",
       "      <th>4</th>\n",
       "      <td>00005_Ford F-450 Super Duty Crew Cab 2012.jpg</td>\n",
       "      <td>Ford F-450 Super Duty Crew Cab 2012</td>\n",
       "      <td>Large</td>\n",
       "      <td>0</td>\n",
       "    </tr>\n",
       "    <tr>\n",
       "      <th>6</th>\n",
       "      <td>00007_Dodge Journey SUV 2012.jpg</td>\n",
       "      <td>Dodge Journey SUV 2012</td>\n",
       "      <td>Midsize</td>\n",
       "      <td>0</td>\n",
       "    </tr>\n",
       "    <tr>\n",
       "      <th>...</th>\n",
       "      <td>...</td>\n",
       "      <td>...</td>\n",
       "      <td>...</td>\n",
       "      <td>...</td>\n",
       "    </tr>\n",
       "    <tr>\n",
       "      <th>26212</th>\n",
       "      <td>RamCVCargoVanMinivan201294.jpeg</td>\n",
       "      <td>Ram C/V Cargo Van Minivan 2012</td>\n",
       "      <td>Large</td>\n",
       "      <td>1</td>\n",
       "    </tr>\n",
       "    <tr>\n",
       "      <th>26213</th>\n",
       "      <td>RamCVCargoVanMinivan201296.jpeg</td>\n",
       "      <td>Ram C/V Cargo Van Minivan 2012</td>\n",
       "      <td>Large</td>\n",
       "      <td>1</td>\n",
       "    </tr>\n",
       "    <tr>\n",
       "      <th>26214</th>\n",
       "      <td>RamCVCargoVanMinivan201297.jpeg</td>\n",
       "      <td>Ram C/V Cargo Van Minivan 2012</td>\n",
       "      <td>Large</td>\n",
       "      <td>1</td>\n",
       "    </tr>\n",
       "    <tr>\n",
       "      <th>26215</th>\n",
       "      <td>RamCVCargoVanMinivan201298.jpeg</td>\n",
       "      <td>Ram C/V Cargo Van Minivan 2012</td>\n",
       "      <td>Large</td>\n",
       "      <td>1</td>\n",
       "    </tr>\n",
       "    <tr>\n",
       "      <th>26216</th>\n",
       "      <td>RamCVCargoVanMinivan201299.jpeg</td>\n",
       "      <td>Ram C/V Cargo Van Minivan 2012</td>\n",
       "      <td>Large</td>\n",
       "      <td>1</td>\n",
       "    </tr>\n",
       "  </tbody>\n",
       "</table>\n",
       "<p>18337 rows × 4 columns</p>\n",
       "</div>"
      ],
      "text/plain": [
       "                                                name  \\\n",
       "1                      00002_Acura TL Sedan 2012.jpg   \n",
       "2               00003_Dodge Dakota Club Cab 2007.jpg   \n",
       "3         00004_Hyundai Sonata Hybrid Sedan 2012.jpg   \n",
       "4      00005_Ford F-450 Super Duty Crew Cab 2012.jpg   \n",
       "6                   00007_Dodge Journey SUV 2012.jpg   \n",
       "...                                              ...   \n",
       "26212                RamCVCargoVanMinivan201294.jpeg   \n",
       "26213                RamCVCargoVanMinivan201296.jpeg   \n",
       "26214                RamCVCargoVanMinivan201297.jpeg   \n",
       "26215                RamCVCargoVanMinivan201298.jpeg   \n",
       "26216                RamCVCargoVanMinivan201299.jpeg   \n",
       "\n",
       "                                  car_name car_type  is_test  \n",
       "1                      Acura TL Sedan 2012  Midsize        0  \n",
       "2               Dodge Dakota Club Cab 2007    Large        0  \n",
       "3         Hyundai Sonata Hybrid Sedan 2012  Midsize        0  \n",
       "4      Ford F-450 Super Duty Crew Cab 2012    Large        0  \n",
       "6                   Dodge Journey SUV 2012  Midsize        0  \n",
       "...                                    ...      ...      ...  \n",
       "26212       Ram C/V Cargo Van Minivan 2012    Large        1  \n",
       "26213       Ram C/V Cargo Van Minivan 2012    Large        1  \n",
       "26214       Ram C/V Cargo Van Minivan 2012    Large        1  \n",
       "26215       Ram C/V Cargo Van Minivan 2012    Large        1  \n",
       "26216       Ram C/V Cargo Van Minivan 2012    Large        1  \n",
       "\n",
       "[18337 rows x 4 columns]"
      ]
     },
     "execution_count": 7,
     "metadata": {},
     "output_type": "execute_result"
    }
   ],
   "source": [
    "dataset_path = \"../../data/meta/final_dataset_labeled.csv\"\n",
    "df = pd.read_csv(dataset_path, index_col=0)\n",
    "df"
   ]
  },
  {
   "attachments": {},
   "cell_type": "markdown",
   "metadata": {},
   "source": [
    "## Prepare data"
   ]
  },
  {
   "attachments": {},
   "cell_type": "markdown",
   "metadata": {},
   "source": [
    "### split data into train, validation and test set"
   ]
  },
  {
   "cell_type": "code",
   "execution_count": 8,
   "metadata": {},
   "outputs": [],
   "source": [
    "def split2(dataset: pd.DataFrame, val: float, test: float) -> dict:\n",
    "\n",
    "    images= dataset[\"name\"].to_numpy()\n",
    "    labels= dataset[\"car_type\"].to_numpy()\n",
    "\n",
    "    validation_ratio = val\n",
    "    test_ratio = test\n",
    "\n",
    "    training_images, other_images, training_labels, other_labels = train_test_split(images, labels, test_size= (test_ratio+validation_ratio) , random_state= 1)\n",
    "\n",
    "    validation_images, testing_images, validation_labels, testing_labels = train_test_split(other_images, other_labels, test_size= (test_ratio / (test_ratio + validation_ratio)), random_state= 1)\n",
    "\n",
    "    sets = {\"train_img\": training_images, \n",
    "            \"train_labels\": training_labels, \n",
    "            \"val_img\": validation_images, \n",
    "            \"val_labels\": validation_labels, \n",
    "            \"test_img\": testing_images, \n",
    "            \"test_labels\": testing_labels\n",
    "            }\n",
    "    return sets"
   ]
  },
  {
   "cell_type": "code",
   "execution_count": 9,
   "metadata": {},
   "outputs": [],
   "source": [
    "sets = split2(df, 0.15, 0.05)"
   ]
  },
  {
   "cell_type": "code",
   "execution_count": 11,
   "metadata": {},
   "outputs": [],
   "source": [
    "x_train = sets[\"train_img\"]\n",
    "y_train = sets[\"train_labels\"]\n",
    "x_val = sets[\"val_img\"]\n",
    "y_val = sets[\"val_labels\"]"
   ]
  },
  {
   "attachments": {},
   "cell_type": "markdown",
   "metadata": {},
   "source": [
    "### load actual images"
   ]
  },
  {
   "cell_type": "code",
   "execution_count": 128,
   "metadata": {},
   "outputs": [],
   "source": [
    "def preprocess_dataset(image: str, size: tuple = (256, 256)) -> tf.Tensor:\n",
    "    pth = tf.io.read_file(image)\n",
    "    image = tf.io.decode_image(pth) \n",
    "    image.set_shape([None, None, 3])\n",
    "    image = tf.image.resize(image, size)\n",
    "    image = image / 255.0\n",
    "    return image\n",
    "\n",
    "def generate_tf_dataset(file_names: np.ndarray, labels: np.ndarray, batch_size=32):\n",
    "\n",
    "    oneHot = OneHotEncoder()\n",
    "    encoded_labels = oneHot.fit_transform([[label] for label in labels]).toarray()\n",
    "    label_dataset = tf.data.Dataset.from_tensor_slices(encoded_labels)\n",
    "\n",
    "    image_dataset = tf.data.Dataset.from_tensor_slices([img for img in file_names])\n",
    "    image_dataset = image_dataset.map(preprocess_dataset)\n",
    "\n",
    "    dataset = tf.data.Dataset.zip((image_dataset, label_dataset))\n",
    "\n",
    "    return dataset"
   ]
  },
  {
   "cell_type": "code",
   "execution_count": 138,
   "metadata": {},
   "outputs": [
    {
     "name": "stderr",
     "output_type": "stream",
     "text": [
      "d:\\anaconda3\\envs\\tf_env\\lib\\site-packages\\tensorflow\\python\\data\\ops\\structured_function.py:264: UserWarning: Even though the `tf.config.experimental_run_functions_eagerly` option is set, this option does not apply to tf.data functions. To force eager execution of tf.data functions, please use `tf.data.experimental.enable_debug_mode()`.\n",
      "  warnings.warn(\n"
     ]
    },
    {
     "data": {
      "text/plain": [
       "14669"
      ]
     },
     "execution_count": 138,
     "metadata": {},
     "output_type": "execute_result"
    }
   ],
   "source": [
    "train_data = generate_tf_dataset(x_train, y_train)\n",
    "len(train_data)"
   ]
  }
 ],
 "metadata": {
  "kernelspec": {
   "display_name": "tf_env",
   "language": "python",
   "name": "python3"
  },
  "language_info": {
   "codemirror_mode": {
    "name": "ipython",
    "version": 3
   },
   "file_extension": ".py",
   "mimetype": "text/x-python",
   "name": "python",
   "nbconvert_exporter": "python",
   "pygments_lexer": "ipython3",
   "version": "3.9.16"
  },
  "orig_nbformat": 4
 },
 "nbformat": 4,
 "nbformat_minor": 2
}
